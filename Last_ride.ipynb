{
 "cells": [
  {
   "cell_type": "code",
   "execution_count": 5,
   "id": "0f905650-3edb-46da-ab5a-6a308d14e831",
   "metadata": {},
   "outputs": [
    {
     "name": "stdout",
     "output_type": "stream",
     "text": [
      "hello\n",
      "learners\n",
      "hello learners\n"
     ]
    }
   ],
   "source": [
    "#10/04/2025\n",
    "# Let's practice again for all concepts I learnt throughout my journey.\n",
    "#.split()- it splits the data and stores it in the given variables\n",
    "str1 = 'hello learners'\n",
    "a,b = str1.split()  #multiple assignment of variables done here\n",
    "print(a)\n",
    "print(b)\n",
    "print(a,b)\n",
    "\n"
   ]
  },
  {
   "cell_type": "code",
   "execution_count": 4,
   "id": "ea92028a-3373-4b02-af34-a65850bf554f",
   "metadata": {},
   "outputs": [
    {
     "name": "stdout",
     "output_type": "stream",
     "text": [
      "welcome\n",
      "to\n",
      "data\n",
      "science\n",
      "DEEPJYOTI\n",
      "welcome to data science DEEPJYOTI\n"
     ]
    }
   ],
   "source": [
    "str2 = \"welcome to data science DEEPJYOTI\"\n",
    "a,b,c,d,e = str2.split()\n",
    "print(a)\n",
    "print(b)\n",
    "print(c)\n",
    "print(d)\n",
    "print(e)\n",
    "print(a,b,c,d,e)"
   ]
  },
  {
   "cell_type": "code",
   "execution_count": 8,
   "id": "e5bb57a4-0ba6-48aa-9604-1d986709b532",
   "metadata": {},
   "outputs": [
    {
     "data": {
      "text/plain": [
       "3.0"
      ]
     },
     "execution_count": 8,
     "metadata": {},
     "output_type": "execute_result"
    }
   ],
   "source": [
    "#need to find out the value of log10 of 1000\n",
    "import math\n",
    "l = math.log10(1000)\n",
    "l"
   ]
  },
  {
   "cell_type": "code",
   "execution_count": 15,
   "id": "88f22917-d8d8-4ceb-a339-0cdc538a2b76",
   "metadata": {},
   "outputs": [
    {
     "name": "stdout",
     "output_type": "stream",
     "text": [
      "12.57\n"
     ]
    }
   ],
   "source": [
    "import math\n",
    "# If the radius of a circle is 2, find the area of the circle\n",
    "import math\n",
    "r = 2\n",
    "area = math.pi*r*r\n",
    "print(round(area,2))\n",
    "\n",
    "\n"
   ]
  },
  {
   "cell_type": "code",
   "execution_count": 16,
   "id": "6d5dc1c5-476b-44c1-be99-de62a9ddf81f",
   "metadata": {},
   "outputs": [],
   "source": [
    "#Find the area of the triangle\n",
    "def area_triangle(height, breadth):\n",
    "    area = 0.5*height*breadth\n",
    "    return area\n",
    "    "
   ]
  },
  {
   "cell_type": "code",
   "execution_count": 18,
   "id": "1e652243-f7ac-462d-b2d4-738da6320084",
   "metadata": {},
   "outputs": [
    {
     "name": "stdin",
     "output_type": "stream",
     "text": [
      "Enter the height: 20\n",
      "Enter the breadth: 30\n"
     ]
    },
    {
     "name": "stdout",
     "output_type": "stream",
     "text": [
      "300.0\n"
     ]
    }
   ],
   "source": [
    "h = int(input(\"Enter the height:\"))\n",
    "b = int(input(\"Enter the breadth:\"))    \n",
    "Net_area = area_triangle(height = h, breadth = b)\n",
    "print(Net_area)"
   ]
  },
  {
   "cell_type": "code",
   "execution_count": 19,
   "id": "2d31c239-f285-4a2f-8ce3-996bbcff5869",
   "metadata": {},
   "outputs": [
    {
     "data": {
      "text/plain": [
       "[1, 2, 100, 3, 4, 5]"
      ]
     },
     "execution_count": 19,
     "metadata": {},
     "output_type": "execute_result"
    }
   ],
   "source": [
    "#LIST - list is the heterogeneous , ordered way and mutable data-types\n",
    "#Functions - .append()- to add value from one after another\n",
    "#.insert(index, value)\n",
    "l = [1,2,3,4,5]\n",
    "l.insert(2,100)\n",
    "l"
   ]
  },
  {
   "cell_type": "code",
   "execution_count": 20,
   "id": "34c76778-6424-4f91-8e47-a1fb09306dc4",
   "metadata": {},
   "outputs": [
    {
     "data": {
      "text/plain": [
       "[1, 2, 3, 4, 5, 6, 7, 8]"
      ]
     },
     "execution_count": 20,
     "metadata": {},
     "output_type": "execute_result"
    }
   ],
   "source": [
    "#.extend() - it's used to add one list into another.\n",
    "L1 = [1,2,3,4]\n",
    "L2 = [5,6,7,8]\n",
    "L1.extend(L2)\n",
    "L1"
   ]
  },
  {
   "cell_type": "code",
   "execution_count": 21,
   "id": "2ca30c24-363f-4549-ac4c-825fd3cdcdb0",
   "metadata": {},
   "outputs": [
    {
     "data": {
      "text/plain": [
       "[1, 2, 3, 4, -100, 'hey']"
      ]
     },
     "execution_count": 21,
     "metadata": {},
     "output_type": "execute_result"
    }
   ],
   "source": [
    "#.remove() - it removes elements from the list.\n",
    "#.pop()- it removes elements by giving the index number in the list.\n",
    "L = [1,2,3,4,\"hello\", -100, \"hey\"]\n",
    "L.remove(\"hello\")\n",
    "L"
   ]
  },
  {
   "cell_type": "code",
   "execution_count": 22,
   "id": "bf2b44b7-2d75-4627-a13c-a50bdd0fe7bc",
   "metadata": {},
   "outputs": [
    {
     "data": {
      "text/plain": [
       "[1, 2, 3, 4, -100]"
      ]
     },
     "execution_count": 22,
     "metadata": {},
     "output_type": "execute_result"
    }
   ],
   "source": [
    "L.pop(5) #index number is given\n",
    "L"
   ]
  },
  {
   "cell_type": "code",
   "execution_count": 23,
   "id": "956b845d-9acf-43e0-a6e4-9d92bb082fc6",
   "metadata": {},
   "outputs": [
    {
     "data": {
      "text/plain": [
       "[1, 2, 3, 4]"
      ]
     },
     "execution_count": 23,
     "metadata": {},
     "output_type": "execute_result"
    }
   ],
   "source": [
    "L.pop(4) # index number of the removed element is given.\n",
    "L"
   ]
  },
  {
   "cell_type": "code",
   "execution_count": 27,
   "id": "e4b3985a-3698-4f01-83a4-0bee050ada41",
   "metadata": {},
   "outputs": [
    {
     "name": "stdout",
     "output_type": "stream",
     "text": [
      "Machine\n",
      " Learning\n",
      "Machine Learning\n"
     ]
    }
   ],
   "source": [
    "#slicing the string and then concatenating them - \"Machine Learning\"\n",
    "str = \"Machine Learning\"\n",
    "res = []\n",
    "a = str[0:7]\n",
    "print(a)\n",
    "b = str[7:]\n",
    "print(b)\n",
    "res = a + b\n",
    "print(res)\n",
    "\n"
   ]
  },
  {
   "cell_type": "code",
   "execution_count": 31,
   "id": "f059a5c2-2b28-49d3-bb1e-a585c030468a",
   "metadata": {},
   "outputs": [
    {
     "name": "stdout",
     "output_type": "stream",
     "text": [
      "10\n",
      "6\n"
     ]
    }
   ],
   "source": [
    "#.count()- it counts the number of elements in the list.\n",
    "L=[1,1,2,2,2,2,2,2,2,2,2,2,3,3,5,5,6,5,6,6,6,6,6,9,9,9,9,9,9]\n",
    "print(L.count(2))\n",
    "print(L.count(6))"
   ]
  },
  {
   "cell_type": "code",
   "execution_count": 1,
   "id": "a5ff06b6-ef5b-499b-8956-79147a56547f",
   "metadata": {},
   "outputs": [
    {
     "name": "stdout",
     "output_type": "stream",
     "text": [
      "[1, 9, 25, 49, 81, 121, 169, 225, 289, 361, 441, 529, 625, 729, 841, 961, 1089, 1225, 1369, 1521, 1681, 1849, 2025, 2209, 2401] "
     ]
    }
   ],
   "source": [
    "#Find the odd squares of 1 to 50 and arrange them in a list.\n",
    "L  = [x**2 for x in range(1,51) if x%2 == 1]\n",
    "print(L, end = \" \")\n",
    "\n",
    "\n",
    "\n",
    "\n"
   ]
  },
  {
   "cell_type": "code",
   "execution_count": 3,
   "id": "536802e3-e30c-4e10-a340-6a8db5ca938f",
   "metadata": {},
   "outputs": [
    {
     "name": "stdout",
     "output_type": "stream",
     "text": [
      "[4, 16, 36, 64, 100, 144, 196, 256, 324, 400, 484, 576, 676, 784, 900, 1024, 1156, 1296, 1444, 1600, 1764, 1936, 2116, 2304, 2500]\n"
     ]
    }
   ],
   "source": [
    "#11/04/2025\n",
    "#Find the even squares of 1 to 50  and arrange them in a list.\n",
    "even_square = [x**2 for x in range(1,51) if x%2== 0]\n",
    "print(even_square)\n",
    "\n",
    "\n",
    "\n"
   ]
  },
  {
   "cell_type": "code",
   "execution_count": 8,
   "id": "6332598d-4bae-49fb-ac72-fa37614220ac",
   "metadata": {},
   "outputs": [
    {
     "name": "stdout",
     "output_type": "stream",
     "text": [
      "The required result is:[0, 0, 0, 0, 0, 0, 0, 1, 1, 1, 1, 1]\n"
     ]
    }
   ],
   "source": [
    "arr = [0,0,1,1,0,1,0,0,0,1,0,1]\n",
    "a = []\n",
    "for i in arr:\n",
    "    if i == 0:\n",
    "        a.append(i)\n",
    "b = []\n",
    "for j in arr:\n",
    "    if j == 1:\n",
    "        b.append(j)\n",
    "res = a + b\n",
    "print(f\"The required result is:{res}\")"
   ]
  },
  {
   "cell_type": "code",
   "execution_count": 25,
   "id": "36a74f99-5f71-4474-88a6-0ca8bb6a9907",
   "metadata": {},
   "outputs": [
    {
     "name": "stdout",
     "output_type": "stream",
     "text": [
      "['apples', 'grapes', 'oranges']\n"
     ]
    }
   ],
   "source": [
    "#From the  list below, store the variables ending with 's' placed together in a list.\n",
    "var = ['apples','mango','banana','grapes','oranges']\n",
    "res = []\n",
    "end_letter = 's'\n",
    "for i in var:\n",
    "    if i.endswith(end_letter):\n",
    "        res.append(i)\n",
    "print(res)\n",
    "        \n",
    "        \n",
    "        "
   ]
  },
  {
   "cell_type": "code",
   "execution_count": 26,
   "id": "fdd7dbb1-65cf-4146-bc59-fc645814482d",
   "metadata": {},
   "outputs": [
    {
     "name": "stdout",
     "output_type": "stream",
     "text": [
      "['apples', 'grapes', 'oranges']\n",
      "['mango', 'banana']\n"
     ]
    }
   ],
   "source": [
    "#by using list comprehension method\n",
    "var = ['apples','mango','banana','grapes','oranges']\n",
    "end_letter = 's'\n",
    "with_s = [x for x in var if x.endswith(end_letter)]\n",
    "without_s = [ x for x in var if x not in with_s]\n",
    "print(with_s)\n",
    "print(without_s)"
   ]
  },
  {
   "cell_type": "code",
   "execution_count": 1,
   "id": "3ff365c6-d933-41ee-9308-c3ab8cc0458f",
   "metadata": {},
   "outputs": [
    {
     "name": "stdout",
     "output_type": "stream",
     "text": [
      "1 2 3 4 5 6 "
     ]
    }
   ],
   "source": [
    "#while loop - while loops are used to repeat a block of code as long as specified conditions are true. \n",
    "# Display numbers 1 to 6 using while loop.\n",
    "i = 1\n",
    "while i <=6:\n",
    "    print(i, end = \" \")\n",
    "    i = i + 1\n",
    "    \n",
    "    \n",
    "    "
   ]
  },
  {
   "cell_type": "code",
   "execution_count": 2,
   "id": "c2e027a6-1bab-4b33-8cff-8b7884d4619a",
   "metadata": {},
   "outputs": [
    {
     "name": "stdout",
     "output_type": "stream",
     "text": [
      "20 0\n",
      "25 1\n",
      "30 2\n",
      "35 3\n",
      "40 4\n",
      "45 5\n"
     ]
    }
   ],
   "source": [
    "#Find the sum of numbers starting from 15 by incrementing 5 only.\n",
    "num = 15\n",
    "i = 0\n",
    "while i <=5:\n",
    "    num = num + 5\n",
    "    print(num, end = \" \")\n",
    "    print(i)\n",
    "    i = i + 1\n",
    "\n",
    "\n"
   ]
  },
  {
   "cell_type": "code",
   "execution_count": 4,
   "id": "644663c1-7ab3-4e95-9cca-93b9ab5aee15",
   "metadata": {},
   "outputs": [
    {
     "name": "stdout",
     "output_type": "stream",
     "text": [
      "12 13 14 15 16 17 18 19 20 "
     ]
    }
   ],
   "source": [
    "list = [12,13,14,15,16,17,18,19,20] #Here we are going to iterate every item in the list\n",
    "i = 0 #initialise i to 0\n",
    "while i < len(list):\n",
    "    print(list[i], end = \" \")\n",
    "    i = i + 1"
   ]
  },
  {
   "cell_type": "code",
   "execution_count": 7,
   "id": "e9554b50-bd0a-413a-8844-d272135ee21b",
   "metadata": {},
   "outputs": [
    {
     "name": "stdout",
     "output_type": "stream",
     "text": [
      "False False False False False False False True False False True "
     ]
    }
   ],
   "source": [
    "string = \"datascience\"\n",
    "i = 0\n",
    "while i < len(string):\n",
    "    if string[i] == \"e\":\n",
    "        print(True, end = \" \")\n",
    "        i =i + 1\n",
    "    else:\n",
    "        print(False, end = \" \")\n",
    "        i = i + 1"
   ]
  },
  {
   "cell_type": "code",
   "execution_count": 14,
   "id": "059e974d-834b-4232-8676-29fa11c36a84",
   "metadata": {},
   "outputs": [
    {
     "name": "stdout",
     "output_type": "stream",
     "text": [
      "The list contains 5 is True\n"
     ]
    }
   ],
   "source": [
    "#Given a list of numbers, find whether a given number is present in the list.\n",
    "nums = [1,2,3,4,5,6,7,8,9]\n",
    "n = 5\n",
    "found = False\n",
    "for num in nums:\n",
    "    if num == n:\n",
    "        found = True\n",
    "        break\n",
    "print(f\"The list contains {num} is {found}\")    "
   ]
  },
  {
   "cell_type": "code",
   "execution_count": 15,
   "id": "fc3d30f2-b886-4b04-b456-b6bede36b201",
   "metadata": {},
   "outputs": [
    {
     "name": "stdout",
     "output_type": "stream",
     "text": [
      "The sum is:22\n"
     ]
    }
   ],
   "source": [
    "#From the given list, find the sum of all positive numbers.\n",
    "nums = [1,-2,3,-4,5,6,7,-9]\n",
    "sum = 0 #initialise sum to 0\n",
    "for num in nums:\n",
    "    if num > 0:\n",
    "        sum = sum + num\n",
    "print(f\"The sum is:{sum}\")        \n"
   ]
  },
  {
   "cell_type": "code",
   "execution_count": 16,
   "id": "7e790dc1-06e6-4624-8ce1-686d91aecac1",
   "metadata": {},
   "outputs": [
    {
     "name": "stdout",
     "output_type": "stream",
     "text": [
      "The total sum is:220\n"
     ]
    }
   ],
   "source": [
    "nums = [10,-22,30,-40,50,60,70,-99]\n",
    "sum = 0\n",
    "for num in nums:\n",
    "    if num > 0:\n",
    "        sum = sum + num\n",
    "print(f\"The total sum is:{sum}\")        \n",
    "\n"
   ]
  },
  {
   "cell_type": "code",
   "execution_count": 17,
   "id": "39fb5e93-79ea-476e-9f0e-ff8f7bf26c3e",
   "metadata": {},
   "outputs": [
    {
     "name": "stdin",
     "output_type": "stream",
     "text": [
      "Enter the number 12\n"
     ]
    },
    {
     "name": "stdout",
     "output_type": "stream",
     "text": [
      "12*1= 12\n",
      "12*2= 24\n",
      "12*3= 36\n",
      "12*4= 48\n",
      "12*5= 60\n",
      "12*6= 72\n",
      "12*7= 84\n",
      "12*8= 96\n",
      "12*9= 108\n",
      "12*10= 120\n"
     ]
    }
   ],
   "source": [
    "#Find the multiplication table of any integer by using while loop only.\n",
    "n = int(input(\"Enter the number\"))\n",
    "i = 1\n",
    "while i <= 10:\n",
    "    print(f\"{n}*{i}= {n * i}\")\n",
    "    i = i + 1"
   ]
  },
  {
   "cell_type": "code",
   "execution_count": 3,
   "id": "e6726999-40b7-46e1-b087-169901e2f5f6",
   "metadata": {},
   "outputs": [
    {
     "name": "stdin",
     "output_type": "stream",
     "text": [
      "Enter the number: 2222\n"
     ]
    },
    {
     "name": "stdout",
     "output_type": "stream",
     "text": [
      "The required sum is:8\n"
     ]
    }
   ],
   "source": [
    "#WAP to find the sum of the digits of a number that the user accepts.\n",
    "num = int(input(\"Enter the number:\"))\n",
    "r = 0 #set reminder to 0\n",
    "s = 0 #set sum to 0\n",
    "while num != 0:\n",
    "    r = num % 10   #modulus operator is used to get the last digit of the number\n",
    "    s = s + r      #add this digit to the sum\n",
    "    num = num//10  #floor division is used to remove the last digit of the number\n",
    "print(f\"The required sum is:{s}\")  #this process repeates until num is 0\n",
    " \n",
    "          "
   ]
  },
  {
   "cell_type": "code",
   "execution_count": 2,
   "id": "9a0fecbd-5351-462d-a797-92d8ec1ceaa3",
   "metadata": {},
   "outputs": [
    {
     "name": "stdin",
     "output_type": "stream",
     "text": [
      "Enter the number: 123456\n"
     ]
    },
    {
     "name": "stdout",
     "output_type": "stream",
     "text": [
      "6\n",
      "11\n",
      "15\n",
      "18\n",
      "20\n",
      "21\n",
      "THe total sum is:21\n"
     ]
    }
   ],
   "source": [
    "#taking another example\n",
    "num = int(input(\"Enter the number:\"))\n",
    "r = 0\n",
    "s = 0\n",
    "while num != 0:\n",
    "    r = num % 10\n",
    "    s = s + r\n",
    "    num = num // 10\n",
    "    print(s)\n",
    "print(f\"THe total sum is:{s}\")    "
   ]
  },
  {
   "cell_type": "code",
   "execution_count": 5,
   "id": "0561abd7-a1b2-4e78-8b28-de8a19a811c7",
   "metadata": {},
   "outputs": [
    {
     "name": "stdin",
     "output_type": "stream",
     "text": [
      "Enter the mark: 71\n"
     ]
    },
    {
     "name": "stdout",
     "output_type": "stream",
     "text": [
      "Below good\n"
     ]
    }
   ],
   "source": [
    "#problem on if-elif/nested if statements.\n",
    "#WAP to make a problem of student's mark.\n",
    "m  = int(input(\"Enter the mark:\"))\n",
    "if (m >= 0 and m <= 30):\n",
    "    if m >= 15:\n",
    "        print(\"Above bad\")\n",
    "    else:\n",
    "        print(\"Below bad\")\n",
    "elif (m >= 31 and m <= 60):\n",
    "    if m >= 51:\n",
    "        print(\"Above average\")\n",
    "    else:\n",
    "        print(\"Below Average\")\n",
    "elif (m >= 61 and m <= 100):\n",
    "    if m >= 80:\n",
    "        print(\"Above good\")\n",
    "    else:\n",
    "        print(\"Below good\")\n",
    "        \n",
    "        \n",
    "\n"
   ]
  },
  {
   "cell_type": "code",
   "execution_count": 26,
   "id": "dfaf5542-c72e-4613-b67e-9f783a14dc31",
   "metadata": {},
   "outputs": [
    {
     "name": "stdin",
     "output_type": "stream",
     "text": [
      "Enter the height in feet 5.8\n"
     ]
    },
    {
     "name": "stdout",
     "output_type": "stream",
     "text": [
      "Can ride\n"
     ]
    },
    {
     "name": "stdin",
     "output_type": "stream",
     "text": [
      "Enter the age 31\n"
     ]
    },
    {
     "name": "stdout",
     "output_type": "stream",
     "text": [
      "Total ticket price is 500\n"
     ]
    },
    {
     "name": "stdin",
     "output_type": "stream",
     "text": [
      "Do you want photo ? (Y/N) Y\n"
     ]
    },
    {
     "name": "stdout",
     "output_type": "stream",
     "text": [
      "The total bill is:550\n"
     ]
    }
   ],
   "source": [
    "#WAP to manage the ticket collection system for a roller-coaster ride.\n",
    "h = float(input(\"Enter the height in feet\"))\n",
    "bill = 0\n",
    "if h >= 3:\n",
    "    print(\"Can ride\")\n",
    "    a = int(input(\"Enter the age\"))\n",
    "    if a < 12:\n",
    "        bill = 150\n",
    "        print(\"Total ticket price is 150\")\n",
    "    elif (a >= 12 and a <= 18):\n",
    "         bill = 250\n",
    "         print(\"Total ticket price is 250\")\n",
    "    else:\n",
    "          bill = 500\n",
    "          print(\"Total ticket price is 500\")\n",
    "    want_photo = input(\"Do you want photo ? (Y/N)\")\n",
    "    if want_photo == \"Y\":\n",
    "        total_bill = bill + 50\n",
    "        print(f\"The total bill is:{total_bill}\")\n",
    "    else:\n",
    "        total_bill = bill + 0\n",
    "        print(f\"The total bill is: {total_bill}\")\n",
    "else:\n",
    "     print(\"CANT RIDE\")\n"
   ]
  },
  {
   "cell_type": "code",
   "execution_count": 40,
   "id": "a42fd5f4-e957-4c46-bd82-bcfa5f314fd2",
   "metadata": {},
   "outputs": [
    {
     "name": "stdout",
     "output_type": "stream",
     "text": [
      "hi Deep hi Rup hi Bhaskar \n",
      "Exist from inner loop\n",
      "hello Deep hello Rup \n",
      "Exist from inner loop\n",
      "welcome Deep welcome Rup welcome Bhaskar \n",
      "Exist from inner loop\n",
      "\n",
      "Exit from outer loop\n"
     ]
    }
   ],
   "source": [
    "#WAP by using 'break' statement in nested 'for' loop.\n",
    "list1 = [\"hi\",\"hello\",\"welcome\"]\n",
    "list2 = [\"Deep\",\"Rup\",\"Bhaskar\"]\n",
    "for i in list1:\n",
    "  for j in list2:\n",
    "    print(i,j, end = \" \")\n",
    "    if i ==  \"hello\" and j == \"Rup\" :\n",
    "     break                            \n",
    "  print(\"\\nExist from inner loop\")\n",
    "print(\"\\nExit from outer loop\")    \n",
    " "
   ]
  },
  {
   "cell_type": "code",
   "execution_count": 3,
   "id": "8270f213-a911-4750-8cee-a3fa093d299b",
   "metadata": {},
   "outputs": [],
   "source": [
    "#Function and it's applications\n",
    "\n",
    "def sum(a,b):\n",
    "    c = a + b\n",
    "    return c\n",
    "    "
   ]
  },
  {
   "cell_type": "code",
   "execution_count": 4,
   "id": "552bfeed-4299-43ce-800d-8b0a85f009d0",
   "metadata": {},
   "outputs": [
    {
     "name": "stdout",
     "output_type": "stream",
     "text": [
      "5\n"
     ]
    }
   ],
   "source": [
    "r = sum(2,3)\n",
    "print(r)"
   ]
  },
  {
   "cell_type": "code",
   "execution_count": 5,
   "id": "a59cccde-6aa9-4d63-b1d6-b51219f333ad",
   "metadata": {},
   "outputs": [],
   "source": [
    "def my_func(name, place):\n",
    "    return (f\"Hello {name}, welcome to {place}\")"
   ]
  },
  {
   "cell_type": "code",
   "execution_count": 7,
   "id": "98b22a38-b3b8-4f01-8367-9c8d83c9bf7d",
   "metadata": {},
   "outputs": [
    {
     "name": "stdout",
     "output_type": "stream",
     "text": [
      "Hello DEEP, welcome to BANGALORE\n"
     ]
    }
   ],
   "source": [
    "result = my_func(\"DEEP\", \"BANGALORE\")\n",
    "print(result)"
   ]
  },
  {
   "cell_type": "code",
   "execution_count": 14,
   "id": "3d0a3baf-26f9-4f2d-b12a-1ba41a3f8b8a",
   "metadata": {},
   "outputs": [],
   "source": [
    "def my_func2(name, place = \"BANGALORE\"):\n",
    "  return (f\"Hello {name}, welcome to {place}\")"
   ]
  },
  {
   "cell_type": "code",
   "execution_count": 15,
   "id": "517b36e4-f41e-4663-b59b-2142d212e595",
   "metadata": {},
   "outputs": [
    {
     "name": "stdout",
     "output_type": "stream",
     "text": [
      "Hello RUPLYOTI, welcome to BANGALORE\n"
     ]
    }
   ],
   "source": [
    "result = my_func2(\"RUPLYOTI\")\n",
    "print(result)"
   ]
  },
  {
   "cell_type": "code",
   "execution_count": 18,
   "id": "b25baa0f-a239-4630-9a9d-fbf574b2c779",
   "metadata": {},
   "outputs": [
    {
     "name": "stdout",
     "output_type": "stream",
     "text": [
      "The required sum is:51\n"
     ]
    }
   ],
   "source": [
    "#using the function to WAP to sum of two numbers and then add one to it.\n",
    "def func1(x):\n",
    "    return x + 1\n",
    "def func2(a,b):\n",
    "    c = a + b\n",
    "    return c\n",
    "output = func2(20,30)\n",
    "result = func1(output)\n",
    "print(f\"The required sum is:{result}\")\n"
   ]
  },
  {
   "cell_type": "code",
   "execution_count": 19,
   "id": "45257b52-2ecb-435a-b923-45c5e10ddb9b",
   "metadata": {},
   "outputs": [],
   "source": [
    "#Create a function to calculate the volume of a cuboid.\n",
    "def vol_cuboid(length, breadth, height):\n",
    "    volume = length*breadth*height\n",
    "    return volume"
   ]
  },
  {
   "cell_type": "code",
   "execution_count": 20,
   "id": "412bfd6e-ce0d-4dc4-87c6-26c2f6867ee7",
   "metadata": {},
   "outputs": [
    {
     "name": "stdin",
     "output_type": "stream",
     "text": [
      "Enter the length: 12\n",
      "Enter the breadth: 22\n",
      "Enter the height: 10\n"
     ]
    },
    {
     "name": "stdout",
     "output_type": "stream",
     "text": [
      "The required volume is:2640\n"
     ]
    }
   ],
   "source": [
    "l = int(input(\"Enter the length:\"))\n",
    "b = int(input(\"Enter the breadth:\"))\n",
    "h = int(input(\"Enter the height:\"))\n",
    "result = vol_cuboid(length = l, breadth = b, height = h)\n",
    "print(f\"The required volume is:{result}\")"
   ]
  },
  {
   "cell_type": "code",
   "execution_count": 27,
   "id": "9f780ba8-bead-44a7-953c-57792fbf59b5",
   "metadata": {},
   "outputs": [],
   "source": [
    "#Arbitrary arguments - Arbitrary positional arguments(*args), arbitrary key-word arguments(**kwargs)\n",
    "def my_sum(*args):\n",
    "    sum = 0\n",
    "    for arg in args:\n",
    "        sum += arg\n",
    "    return sum"
   ]
  },
  {
   "cell_type": "code",
   "execution_count": 29,
   "id": "2e45ab23-c710-4c53-ba10-28083407e53b",
   "metadata": {},
   "outputs": [
    {
     "name": "stdout",
     "output_type": "stream",
     "text": [
      "The sum is: 55\n"
     ]
    }
   ],
   "source": [
    "result = my_sum(1,2,3,4,5,6,7,8,9,10)\n",
    "print(f\"The sum is: {result}\")"
   ]
  },
  {
   "cell_type": "code",
   "execution_count": 30,
   "id": "93e7742e-52d4-4463-8e18-ef1a0196e46d",
   "metadata": {},
   "outputs": [],
   "source": [
    "def my_func3(**kwargs):\n",
    "    for key, value in kwargs.items():\n",
    "         print(key,value)\n",
    "        "
   ]
  },
  {
   "cell_type": "code",
   "execution_count": 46,
   "id": "690f11b3-4b55-43b0-9fd4-609b9698ca19",
   "metadata": {},
   "outputs": [
    {
     "name": "stdout",
     "output_type": "stream",
     "text": [
      "first -> Functions are good\n",
      "second -> I like using function\n"
     ]
    }
   ],
   "source": [
    "my_func3(first = \"-> Functions are good\", second = \"-> I like using function\")\n"
   ]
  },
  {
   "cell_type": "code",
   "execution_count": 34,
   "id": "5212eb40-1357-4b8a-969e-0d7a5cfd58d2",
   "metadata": {},
   "outputs": [],
   "source": [
    "def my_func4(**kwargs):\n",
    "    for key,value in kwargs.items():\n",
    "        print(key,value)"
   ]
  },
  {
   "cell_type": "code",
   "execution_count": 48,
   "id": "aef8f29c-6d4e-4ed0-937c-77a740de7daf",
   "metadata": {},
   "outputs": [
    {
     "name": "stdout",
     "output_type": "stream",
     "text": [
      "name -> Deep\n",
      "branch -> AEI\n",
      "passing_year -> 2016\n",
      "employment_status -> unemployed\n"
     ]
    }
   ],
   "source": [
    "my_func4(name = \"-> Deep\",branch = \"-> AEI\",passing_year = \"-> 2016\", employment_status = \"-> unemployed\")\n"
   ]
  },
  {
   "cell_type": "code",
   "execution_count": 51,
   "id": "06a58baf-906e-4b18-9572-682d455b3f61",
   "metadata": {},
   "outputs": [],
   "source": [
    "#Important functions in Python\n",
    "#Lambda function - it's also called an anonymous function\n",
    "def even_odd(x):\n",
    "    if x % 2 == 0:\n",
    "        return \"Even\"\n",
    "    else:\n",
    "        return \"Odd\"\n"
   ]
  },
  {
   "cell_type": "code",
   "execution_count": 52,
   "id": "917ac78e-9731-439c-9d80-a75900e42577",
   "metadata": {},
   "outputs": [
    {
     "data": {
      "text/plain": [
       "'Odd'"
      ]
     },
     "execution_count": 52,
     "metadata": {},
     "output_type": "execute_result"
    }
   ],
   "source": [
    "even_odd(29)"
   ]
  },
  {
   "cell_type": "code",
   "execution_count": 53,
   "id": "6bec8802-381b-490c-9a7b-55901445f0c7",
   "metadata": {},
   "outputs": [
    {
     "name": "stdout",
     "output_type": "stream",
     "text": [
      "Number is:Even\n"
     ]
    }
   ],
   "source": [
    "result = even_odd(30)\n",
    "print(f\"Number is:{result}\")"
   ]
  },
  {
   "cell_type": "code",
   "execution_count": 55,
   "id": "203b96ff-8af1-494a-9a83-f9b3f6882a79",
   "metadata": {},
   "outputs": [
    {
     "name": "stdout",
     "output_type": "stream",
     "text": [
      "Even\n"
     ]
    }
   ],
   "source": [
    "even_odd = lambda x: \"Even\" if x%2 == 0 else \"Odd\"\n",
    "print(even_odd(20))"
   ]
  },
  {
   "cell_type": "code",
   "execution_count": 57,
   "id": "0e783d06-bd03-41f3-9926-c70ba336286d",
   "metadata": {},
   "outputs": [
    {
     "name": "stdout",
     "output_type": "stream",
     "text": [
      "['Even', 'Odd', 'Even', 'Odd', 'Even', 'Odd', 'Even', 'Even', 'Even', 'Odd', 'Even']\n"
     ]
    }
   ],
   "source": [
    "#Find odd $ even from the list.\n",
    "odd_even = [12,13,14,15,16,17,18,18,20,21,22]\n",
    "result = list(map((lambda x : \"Even\" if x%2 == 0 else \"Odd\"),odd_even))  # 'map' function is used to iterate over each object.\n",
    "print(result)"
   ]
  },
  {
   "cell_type": "code",
   "execution_count": 58,
   "id": "688f9621-b83f-4bca-8452-0ea370f23590",
   "metadata": {},
   "outputs": [
    {
     "name": "stdout",
     "output_type": "stream",
     "text": [
      "[4, 16, 36, 64, 100, 144, 196, 256, 324, 400]\n"
     ]
    }
   ],
   "source": [
    "#Find the square of the list-\n",
    "l = [2,4,6,8,10,12,14,16,18,20]\n",
    "result = list(map((lambda x : x**2),l))\n",
    "print(result)"
   ]
  },
  {
   "cell_type": "code",
   "execution_count": 60,
   "id": "1247cd36-a7fa-4d86-b847-ba8df97ca233",
   "metadata": {},
   "outputs": [
    {
     "name": "stdout",
     "output_type": "stream",
     "text": [
      "[5, 9, 13, 17, 21]\n",
      "[6, 20, 42, 72, 110]\n"
     ]
    }
   ],
   "source": [
    "num1 = [2,4,6,8,10]\n",
    "num2 = [3,5,7,9,11]\n",
    "result_sum = list(map((lambda x,y: x+y),num1,num2))\n",
    "print(result_sum)\n",
    "result_multiply = list(map((lambda x,y : x * y), num1, num2))\n",
    "print(result_multiply)\n",
    "\n"
   ]
  },
  {
   "cell_type": "code",
   "execution_count": 71,
   "id": "8e6bf7a0-4622-4a08-85c9-e70fcc290881",
   "metadata": {},
   "outputs": [
    {
     "name": "stdout",
     "output_type": "stream",
     "text": [
      "['APPLE', 'BANANA', 'MANGO', 'ORANGE']\n"
     ]
    }
   ],
   "source": [
    "#To change the lower case to  the upper case letters.\n",
    "words = ['apple','banana','mango','orange']\n",
    "result = []\n",
    "for word in words:\n",
    "    result.append(word.upper())\n",
    "print(result)    \n",
    "         "
   ]
  },
  {
   "cell_type": "code",
   "execution_count": 74,
   "id": "f3b6a324-65b5-4f6f-8348-b6c9a8d6fa57",
   "metadata": {},
   "outputs": [
    {
     "data": {
      "text/plain": [
       "400"
      ]
     },
     "execution_count": 74,
     "metadata": {},
     "output_type": "execute_result"
    }
   ],
   "source": [
    "from functools import reduce\n",
    "scores = [60,70,80,90,100]\n",
    "reduce(lambda x,y : x + y, scores)"
   ]
  },
  {
   "cell_type": "code",
   "execution_count": 75,
   "id": "040c69e7-162a-44f3-8e42-c7459b077de4",
   "metadata": {},
   "outputs": [],
   "source": [
    "#WAP to calculate the mean, median, mode by assigning all arguments together  in a function.\n",
    "import statistics as st\n",
    "def mean_median_mode(list):\n",
    "    return st.mean(list), st.median(list), st.mode(list)"
   ]
  },
  {
   "cell_type": "code",
   "execution_count": 76,
   "id": "db413a57-b120-4a0d-ab96-cda6c118c317",
   "metadata": {},
   "outputs": [
    {
     "name": "stdout",
     "output_type": "stream",
     "text": [
      "The mean is:6.9\n",
      ",THe median is:6.5\n",
      "The mode is:2\n"
     ]
    }
   ],
   "source": [
    "a,b,c = mean_median_mode([2,3,4,5,6,7,9,10,11,12])\n",
    "print(f\"The mean is:{a}\\n,THe median is:{b}\\nThe mode is:{c}\")"
   ]
  },
  {
   "cell_type": "code",
   "execution_count": 78,
   "id": "ef1484a2-9242-4740-b332-2b94dec94de5",
   "metadata": {},
   "outputs": [
    {
     "data": {
      "text/plain": [
       "[100, 64, 3125, 64]"
      ]
     },
     "execution_count": 78,
     "metadata": {},
     "output_type": "execute_result"
    }
   ],
   "source": [
    "var1 = (10,4,5,2)\n",
    "a = list(var1)\n",
    "var2 = (2,3,5,6)\n",
    "b = list(var2)\n",
    "res = list(x1**x2 for x1, x2 in zip(a,b))\n",
    "res"
   ]
  },
  {
   "cell_type": "code",
   "execution_count": 3,
   "id": "114bebb2-3539-4606-8656-ccb10255d497",
   "metadata": {},
   "outputs": [
    {
     "data": {
      "text/plain": [
       "[25, 64, 49, 64]"
      ]
     },
     "execution_count": 3,
     "metadata": {},
     "output_type": "execute_result"
    }
   ],
   "source": [
    "var1 = (5,4,7,8)\n",
    "a = list(var1)\n",
    "var2 = (2,3,2,2)\n",
    "b = list(var2)\n",
    "res = list(x1**x2 for x1,x2 in zip(a,b))\n",
    "res\n"
   ]
  },
  {
   "cell_type": "code",
   "execution_count": 14,
   "id": "153b9e2d-5b1d-4ce8-92ba-7d12ce8bf27c",
   "metadata": {},
   "outputs": [],
   "source": [
    "#WAP will display whether the candidate is eligible to vote or not.\n",
    "def election(age,gender,name):\n",
    " if age>= 18:\n",
    "        if gender == \"M\":\n",
    "            print(f\"Mr.{name},You can vote now\")\n",
    "        elif gender == \"F\":\n",
    "            print(f\"Miss.{name}, You can vote now\")\n",
    " else:\n",
    "     print(\"You are not eligible to vote\")\n",
    "     \n",
    "     "
   ]
  },
  {
   "cell_type": "code",
   "execution_count": 15,
   "id": "be03ea85-10f5-45a0-8655-e980e93401b3",
   "metadata": {},
   "outputs": [
    {
     "name": "stdin",
     "output_type": "stream",
     "text": [
      "Enter the age: 26\n",
      "Enter the gender: F\n",
      "Enter the name: TRISHNA DAS\n"
     ]
    },
    {
     "name": "stdout",
     "output_type": "stream",
     "text": [
      "Miss.TRISHNA DAS, You can vote now\n"
     ]
    }
   ],
   "source": [
    "a = int(input(\"Enter the age:\"))\n",
    "g = input(\"Enter the gender:\")\n",
    "n = input(\"Enter the name:\")\n",
    "result = election(age = a, gender = g, name = n)"
   ]
  },
  {
   "cell_type": "code",
   "execution_count": 39,
   "id": "7b54cfda-ef23-4f34-95bd-6307455bbf4b",
   "metadata": {},
   "outputs": [
    {
     "name": "stdin",
     "output_type": "stream",
     "text": [
      "Enter the name:  PRANITA BARMAN\n",
      "Enter the age:  25\n",
      "Enter the gender (M/F):  F\n",
      "Enter the availible document: AADHAR CARD\n"
     ]
    },
    {
     "name": "stdout",
     "output_type": "stream",
     "text": [
      "your document is accepted.\n",
      "Miss PRANITA BARMAN, you can vote now.\n"
     ]
    }
   ],
   "source": [
    "\n",
    "\n",
    "class Voter:\n",
    "    def __init__(self, name, age, gender, doc):\n",
    "        self.name = name\n",
    "        self.age = age\n",
    "        self.gender = gender.upper()\n",
    "\n",
    "    def check_eligibility(self):\n",
    "        if self.age >= 18:\n",
    "            if self.gender == \"M\":\n",
    "                print(f\"Mr. {self.name}, you can vote now.\")\n",
    "            elif self.gender == \"F\":\n",
    "                print(f\"Miss {self.name}, you can vote now.\")\n",
    "            else:\n",
    "                print(f\"{self.name}, you can vote now.\")\n",
    "        else:\n",
    "            print(f\"{self.name}, you are not eligible to vote.\")\n",
    "\n",
    "    def documents_required(self, doc):\n",
    "        accepted_docs = [\"VOTER CARD\", \"AADHAR CARD\"]\n",
    "        title = \"Mr.\" if self.gender == \"M\" else \"Miss\"\n",
    "\n",
    "        if doc.upper() in accepted_docs:\n",
    "            print(f\"your document is accepted.\")\n",
    "        else:\n",
    "            print(f\"kindly bring the required document first.\")\n",
    "\n",
    "\n",
    "name = input(\"Enter the name: \")\n",
    "age = int(input(\"Enter the age: \"))\n",
    "gender = input(\"Enter the gender (M/F): \")\n",
    "doc = input(\"Enter the availible document:\")\n",
    "\n",
    "voter = Voter(name, age, gender,doc)\n",
    "voter.documents_required(doc)\n",
    "voter.check_eligibility()\n"
   ]
  },
  {
   "cell_type": "code",
   "execution_count": null,
   "id": "d00a08a1-ec74-4715-bb72-e5b7aed7afb5",
   "metadata": {},
   "outputs": [],
   "source": []
  }
 ],
 "metadata": {
  "kernelspec": {
   "display_name": "Python 3 (ipykernel)",
   "language": "python",
   "name": "python3"
  },
  "language_info": {
   "codemirror_mode": {
    "name": "ipython",
    "version": 3
   },
   "file_extension": ".py",
   "mimetype": "text/x-python",
   "name": "python",
   "nbconvert_exporter": "python",
   "pygments_lexer": "ipython3",
   "version": "3.12.7"
  }
 },
 "nbformat": 4,
 "nbformat_minor": 5
}
