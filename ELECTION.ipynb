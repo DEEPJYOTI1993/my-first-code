{
  "nbformat": 4,
  "nbformat_minor": 0,
  "metadata": {
    "colab": {
      "provenance": [],
      "authorship_tag": "ABX9TyO95aicH8RU7xp1MxDH5qlx",
      "include_colab_link": true
    },
    "kernelspec": {
      "name": "python3",
      "display_name": "Python 3"
    },
    "language_info": {
      "name": "python"
    }
  },
  "cells": [
    {
      "cell_type": "markdown",
      "metadata": {
        "id": "view-in-github",
        "colab_type": "text"
      },
      "source": [
        "<a href=\"https://colab.research.google.com/github/DEEPJYOTI1993/my-first-code/blob/main/ELECTION.ipynb\" target=\"_parent\"><img src=\"https://colab.research.google.com/assets/colab-badge.svg\" alt=\"Open In Colab\"/></a>"
      ]
    },
    {
      "cell_type": "code",
      "execution_count": 8,
      "metadata": {
        "id": "eSTEe_i-g8XA"
      },
      "outputs": [],
      "source": [
        "class Voter:\n",
        "    def __init__(self, name, age, gender, doc):\n",
        "        self.name = name\n",
        "        self.age = age\n",
        "        self.gender = gender.upper()\n",
        "\n",
        "    def check_eligibility(self):\n",
        "        if self.age >= 18:\n",
        "            if self.gender == \"M\":\n",
        "                print(f\"Mr. {self.name}, you can vote now.\")\n",
        "            elif self.gender == \"F\":\n",
        "                print(f\"Miss {self.name}, you can vote now.\")\n",
        "            else:\n",
        "                print(f\"{self.name}, you can vote now.\")\n",
        "        else:\n",
        "            print(f\"{self.name}, you are not eligible to vote.\")\n",
        "\n",
        "    def documents_required(self, doc):\n",
        "        accepted_docs = [\"VOTER CARD\", \"AADHAR CARD\"]\n",
        "        title = \"Mr.\" if self.gender == \"M\" else \"Miss\"\n",
        "\n",
        "        if doc.upper() in accepted_docs:\n",
        "            print(\"your document is accepted.\")\n",
        "        else:\n",
        "            print(\"kindly bring the required document first.\")\n",
        "\n",
        "\n"
      ]
    },
    {
      "cell_type": "code",
      "source": [
        "name = input(\"Enter the name: \")\n",
        "age = int(input(\"Enter the age: \"))\n",
        "gender = input(\"Enter the gender (M/F): \")\n",
        "doc = input(\"Enter the availible document:\")\n",
        "\n",
        "voter = Voter(name, age, gender,doc)\n",
        "voter.documents_required(doc)\n",
        "voter.check_eligibility()\n"
      ],
      "metadata": {
        "colab": {
          "base_uri": "https://localhost:8080/"
        },
        "id": "Kfdh8DOihUm7",
        "outputId": "0d5f44a7-8874-4a37-a8a3-d01720da0867"
      },
      "execution_count": 10,
      "outputs": [
        {
          "output_type": "stream",
          "name": "stdout",
          "text": [
            "Enter the name: SAIFUL AHMED\n",
            "Enter the age: 33\n",
            "Enter the gender (M/F): M\n",
            "Enter the availible document:AADHAR CARD\n",
            "your document is accepted.\n",
            "Mr. SAIFUL AHMED, you can vote now.\n"
          ]
        }
      ]
    },
    {
      "cell_type": "code",
      "source": [
        "\n"
      ],
      "metadata": {
        "id": "t3lbUxK7ha03"
      },
      "execution_count": null,
      "outputs": []
    }
  ]
}